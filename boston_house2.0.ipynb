{
 "cells": [
  {
   "cell_type": "code",
   "execution_count": 1,
   "metadata": {},
   "outputs": [
    {
     "name": "stdout",
     "output_type": "stream",
     "text": [
      "2.1.0\n"
     ]
    }
   ],
   "source": [
    "import tensorflow as tf\n",
    "import numpy as np\n",
    "import matplotlib.pyplot as plt\n",
    "\n",
    "%matplotlib inline\n",
    "\n",
    "import pandas as pd \n",
    "from sklearn.utils import shuffle#样本数据打乱\n",
    "from sklearn.preprocessing import scale\n",
    "\n",
    "print(tf.__version__)"
   ]
  },
  {
   "cell_type": "code",
   "execution_count": 2,
   "metadata": {},
   "outputs": [],
   "source": [
    "#读取数据文件\n",
    "df=pd.read_csv(\"C:/Users\\ASUS/.keras/datasets/boston_house_prices.csv\",header=0)"
   ]
  },
  {
   "cell_type": "code",
   "execution_count": 3,
   "metadata": {},
   "outputs": [
    {
     "name": "stdout",
     "output_type": "stream",
     "text": [
      "             CRIM          ZN       INDUS        CHAS         NOX          RM  \\\n",
      "count  506.000000  506.000000  506.000000  506.000000  506.000000  506.000000   \n",
      "mean     3.613524   11.363636   11.136779    0.069170    0.554695    6.284634   \n",
      "std      8.601545   23.322453    6.860353    0.253994    0.115878    0.702617   \n",
      "min      0.006320    0.000000    0.460000    0.000000    0.385000    3.561000   \n",
      "25%      0.082045    0.000000    5.190000    0.000000    0.449000    5.885500   \n",
      "50%      0.256510    0.000000    9.690000    0.000000    0.538000    6.208500   \n",
      "75%      3.677082   12.500000   18.100000    0.000000    0.624000    6.623500   \n",
      "max     88.976200  100.000000   27.740000    1.000000    0.871000    8.780000   \n",
      "\n",
      "              AGE         DIS         RAD         TAX     PTRATIO       LSTAT  \\\n",
      "count  506.000000  506.000000  506.000000  506.000000  506.000000  506.000000   \n",
      "mean    68.574901    3.795043    9.549407  408.237154   18.455534   12.653063   \n",
      "std     28.148861    2.105710    8.707259  168.537116    2.164946    7.141062   \n",
      "min      2.900000    1.129600    1.000000  187.000000   12.600000    1.730000   \n",
      "25%     45.025000    2.100175    4.000000  279.000000   17.400000    6.950000   \n",
      "50%     77.500000    3.207450    5.000000  330.000000   19.050000   11.360000   \n",
      "75%     94.075000    5.188425   24.000000  666.000000   20.200000   16.955000   \n",
      "max    100.000000   12.126500   24.000000  711.000000   22.000000   37.970000   \n",
      "\n",
      "             MEDV  \n",
      "count  506.000000  \n",
      "mean    22.532806  \n",
      "std      9.197104  \n",
      "min      5.000000  \n",
      "25%     17.025000  \n",
      "50%     21.200000  \n",
      "75%     25.000000  \n",
      "max     50.000000  \n"
     ]
    }
   ],
   "source": [
    "#显示数据摘要描述信息\n",
    "print(df.describe())"
   ]
  },
  {
   "cell_type": "code",
   "execution_count": 4,
   "metadata": {},
   "outputs": [],
   "source": [
    "#df.head(3)#显示前3条数据"
   ]
  },
  {
   "cell_type": "code",
   "execution_count": 5,
   "metadata": {},
   "outputs": [],
   "source": [
    "#df.tail(3)#显示后3条数据"
   ]
  },
  {
   "cell_type": "code",
   "execution_count": 6,
   "metadata": {},
   "outputs": [],
   "source": [
    "ds=df.values"
   ]
  },
  {
   "cell_type": "code",
   "execution_count": 7,
   "metadata": {},
   "outputs": [
    {
     "name": "stdout",
     "output_type": "stream",
     "text": [
      "(506, 13)\n"
     ]
    }
   ],
   "source": [
    "print(df.shape)#查看数据的形状"
   ]
  },
  {
   "cell_type": "code",
   "execution_count": 8,
   "metadata": {},
   "outputs": [
    {
     "name": "stdout",
     "output_type": "stream",
     "text": [
      "x_data shape= (506, 12)\n",
      "y_data shape= (506,)\n"
     ]
    }
   ],
   "source": [
    "\n",
    "#x_data为前12列特征数据(归一化后的数据)\n",
    "\n",
    "x_data = ds[:,:12]\n",
    "\n",
    "#y_data为最后一列标签数量\n",
    "\n",
    "y_data = ds[:,12]\n",
    "\n",
    "\n",
    "#对特征数据\n",
    "\n",
    "for i in range(12):\n",
    "    x_data[:,i] = (x_data[:,i]-x_data[:,i].min())/(x_data[:,i].max()-x_data[:,i].min())\n",
    "\n",
    "print('x_data shape=',x_data.shape)\n",
    "print('y_data shape=',y_data.shape)"
   ]
  },
  {
   "cell_type": "markdown",
   "metadata": {},
   "source": [
    "划分数据集：训练集、验证机、测试集"
   ]
  },
  {
   "cell_type": "code",
   "execution_count": 9,
   "metadata": {},
   "outputs": [],
   "source": [
    "train_num=300#训练集的数目\n",
    "valid_num=100\n",
    "test_num=len(x_data)-train_num-valid_num#测试集\n",
    "\n",
    "#训练集划分\n",
    "x_train=x_data[:train_num]\n",
    "y_train=y_data[:train_num]\n",
    "\n",
    "#验证集划分\n",
    "x_valid=x_data[train_num:train_num+valid_num]\n",
    "y_valid=y_data[train_num:train_num+valid_num]\n",
    "\n",
    "#测试集划分\n",
    "x_test=x_data[train_num+valid_num:train_num+valid_num+test_num]\n",
    "y_test=y_data[train_num+valid_num:train_num+valid_num+test_num]\n"
   ]
  },
  {
   "cell_type": "markdown",
   "metadata": {},
   "source": [
    "转换为tf.float32数据类型，后面求损失时要和变量w执行tf.matmul操作"
   ]
  },
  {
   "cell_type": "code",
   "execution_count": 10,
   "metadata": {},
   "outputs": [],
   "source": [
    "x_train = tf.cast(scale(x_train), dtype=tf.float32)\n",
    "x_valid = tf.cast(scale(x_valid), dtype=tf.float32)\n",
    "x_test = tf.cast(scale(x_test), dtype=tf.float32)\n"
   ]
  },
  {
   "cell_type": "markdown",
   "metadata": {},
   "source": [
    "构建模型"
   ]
  },
  {
   "cell_type": "code",
   "execution_count": 11,
   "metadata": {},
   "outputs": [],
   "source": [
    "def model(x, w, b):\n",
    "    return tf.matmul(x,w)+ b"
   ]
  },
  {
   "cell_type": "markdown",
   "metadata": {},
   "source": [
    "创建变量"
   ]
  },
  {
   "cell_type": "code",
   "execution_count": 12,
   "metadata": {},
   "outputs": [],
   "source": [
    "w=tf.Variable(tf.random.normal([12,1],mean=0.0, stddev = 1.0, dtype=tf.float32))\n",
    "b=tf.Variable(tf.zeros(1), dtype = tf.float32)"
   ]
  },
  {
   "cell_type": "code",
   "execution_count": 13,
   "metadata": {},
   "outputs": [
    {
     "name": "stdout",
     "output_type": "stream",
     "text": [
      "<tf.Variable 'Variable:0' shape=(12, 1) dtype=float32, numpy=\n",
      "array([[-0.23524837],\n",
      "       [-0.92870116],\n",
      "       [ 1.466683  ],\n",
      "       [-0.3337184 ],\n",
      "       [-1.5432787 ],\n",
      "       [-1.101277  ],\n",
      "       [-0.54214865],\n",
      "       [ 0.19554488],\n",
      "       [ 0.2885435 ],\n",
      "       [-0.4805279 ],\n",
      "       [ 0.00835432],\n",
      "       [-0.38342583]], dtype=float32)>\n",
      "<tf.Variable 'Variable:0' shape=(1,) dtype=float32, numpy=array([0.], dtype=float32)>\n"
     ]
    }
   ],
   "source": [
    "print(w)\n",
    "print(b)"
   ]
  },
  {
   "cell_type": "markdown",
   "metadata": {},
   "source": [
    "训练模型"
   ]
  },
  {
   "cell_type": "code",
   "execution_count": 14,
   "metadata": {},
   "outputs": [],
   "source": [
    "#设置训练参数\n",
    "training_epochs=50#迭代次数\n",
    "learning_rate=0.001#学习率\n",
    "batch_size=10#批量训练一次的样本数"
   ]
  },
  {
   "cell_type": "code",
   "execution_count": 15,
   "metadata": {},
   "outputs": [],
   "source": [
    "#定义均方差损失函数\n",
    "def loss(x,y,w,b):\n",
    "    err = model(x,w,b)-y  #计算模型预测值和标签值得差距\n",
    "    squared_err=tf.square(err)#求平方，得出方差\n",
    "    return tf.reduce_mean(squared_err)#求均值，得出均方差"
   ]
  },
  {
   "cell_type": "code",
   "execution_count": 16,
   "metadata": {},
   "outputs": [],
   "source": [
    "#定义梯度计算函数\n",
    "def grad(x,y,w,b):\n",
    "    with tf.GradientTape() as tape:\n",
    "        loss_=loss(x,y,w,b)\n",
    "    return tape.gradient(loss_,[w,b])#返回梯度向量\n",
    "    "
   ]
  },
  {
   "cell_type": "code",
   "execution_count": 17,
   "metadata": {},
   "outputs": [],
   "source": [
    "#创建优化器\n",
    "optimizer=tf.keras.optimizers.SGD(learning_rate)"
   ]
  },
  {
   "cell_type": "code",
   "execution_count": 18,
   "metadata": {},
   "outputs": [
    {
     "name": "stdout",
     "output_type": "stream",
     "text": [
      "epoch=  1,train_loss=658.4022,valid_loss=462.2096\n",
      "epoch=  2,train_loss=593.5115,valid_loss=411.3517\n",
      "epoch=  3,train_loss=536.5404,valid_loss=367.5679\n",
      "epoch=  4,train_loss=486.3475,valid_loss=329.6974\n",
      "epoch=  5,train_loss=442.0356,valid_loss=296.8719\n",
      "epoch=  6,train_loss=402.8699,valid_loss=268.4062\n",
      "epoch=  7,train_loss=368.2315,valid_loss=243.7390\n",
      "epoch=  8,train_loss=337.5878,valid_loss=222.3952\n",
      "epoch=  9,train_loss=310.4745,valid_loss=203.9657\n",
      "epoch= 10,train_loss=286.4844,valid_loss=188.0933\n",
      "epoch= 11,train_loss=265.2582,valid_loss=174.4646\n",
      "epoch= 12,train_loss=246.4784,valid_loss=162.8026\n",
      "epoch= 13,train_loss=229.8637,valid_loss=152.8627\n",
      "epoch= 14,train_loss=215.1652,valid_loss=144.4288\n",
      "epoch= 15,train_loss=202.1624,valid_loss=137.3096\n",
      "epoch= 16,train_loss=190.6597,valid_loss=131.3364\n",
      "epoch= 17,train_loss=180.4845,valid_loss=126.3603\n",
      "epoch= 18,train_loss=171.4836,valid_loss=122.2502\n",
      "epoch= 19,train_loss=163.5213,valid_loss=118.8903\n",
      "epoch= 20,train_loss=156.4782,valid_loss=116.1793\n",
      "epoch= 21,train_loss=150.2478,valid_loss=114.0279\n",
      "epoch= 22,train_loss=144.7365,valid_loss=112.3579\n",
      "epoch= 23,train_loss=139.8611,valid_loss=111.1008\n",
      "epoch= 24,train_loss=135.5483,valid_loss=110.1965\n",
      "epoch= 25,train_loss=131.7333,valid_loss=109.5927\n",
      "epoch= 26,train_loss=128.3586,valid_loss=109.2437\n",
      "epoch= 27,train_loss=125.3732,valid_loss=109.1096\n",
      "epoch= 28,train_loss=122.7325,valid_loss=109.1557\n",
      "epoch= 29,train_loss=120.3966,valid_loss=109.3521\n",
      "epoch= 30,train_loss=118.3305,valid_loss=109.6724\n",
      "epoch= 31,train_loss=116.5030,valid_loss=110.0941\n",
      "epoch= 32,train_loss=114.8866,valid_loss=110.5977\n",
      "epoch= 33,train_loss=113.4571,valid_loss=111.1665\n",
      "epoch= 34,train_loss=112.1929,valid_loss=111.7857\n",
      "epoch= 35,train_loss=111.0751,valid_loss=112.4433\n",
      "epoch= 36,train_loss=110.0867,valid_loss=113.1284\n",
      "epoch= 37,train_loss=109.2128,valid_loss=113.8322\n",
      "epoch= 38,train_loss=108.4404,valid_loss=114.5471\n",
      "epoch= 39,train_loss=107.7578,valid_loss=115.2664\n",
      "epoch= 40,train_loss=107.1546,valid_loss=115.9849\n",
      "epoch= 41,train_loss=106.6217,valid_loss=116.6981\n",
      "epoch= 42,train_loss=106.1510,valid_loss=117.4023\n",
      "epoch= 43,train_loss=105.7354,valid_loss=118.0945\n",
      "epoch= 44,train_loss=105.3686,valid_loss=118.7722\n",
      "epoch= 45,train_loss=105.0450,valid_loss=119.4335\n",
      "epoch= 46,train_loss=104.7595,valid_loss=120.0768\n",
      "epoch= 47,train_loss=104.5079,valid_loss=120.7011\n",
      "epoch= 48,train_loss=104.2863,valid_loss=121.3055\n",
      "epoch= 49,train_loss=104.0911,valid_loss=121.8895\n",
      "epoch= 50,train_loss=103.9194,valid_loss=122.4528\n"
     ]
    }
   ],
   "source": [
    "#迭代训练\n",
    "\n",
    "loss_list_train=[]\n",
    "loss_list_valid=[]\n",
    "total_step=int(train_num/batch_size)\n",
    "\n",
    "for epoch in range(training_epochs):\n",
    "    for step in range(total_step):\n",
    "        xs=x_train[step*batch_size:(step+1)*batch_size,:]\n",
    "        ys=y_train[step*batch_size:(step+1)*batch_size]\n",
    "        \n",
    "        grads=grad(xs,ys,w,b)#计算梯度\n",
    "        optimizer.apply_gradients(zip(grads,[w,b]))#优化器根据梯度自动调整w和b\n",
    "        \n",
    "    loss_train=loss(x_train,y_train,w,b).numpy()#计算当前轮训练损失\n",
    "    loss_valid=loss(x_valid,y_valid,w,b).numpy()#计算当前轮验证损失\n",
    "    loss_list_train.append(loss_train)\n",
    "    loss_list_valid.append(loss_valid)\n",
    "    print(\"epoch={:3d},train_loss={:.4f},valid_loss={:.4f}\".format(epoch+1,loss_train,loss_valid))"
   ]
  },
  {
   "cell_type": "code",
   "execution_count": 19,
   "metadata": {},
   "outputs": [
    {
     "data": {
      "text/plain": [
       "<matplotlib.legend.Legend at 0x279ddcac188>"
      ]
     },
     "execution_count": 19,
     "metadata": {},
     "output_type": "execute_result"
    },
    {
     "data": {
      "image/png": "[encoded data removed]",
      "text/plain": [
       "<Figure size 432x288 with 1 Axes>"
      ]
     },
     "metadata": {
      "needs_background": "light"
     },
     "output_type": "display_data"
    }
   ],
   "source": [
    "\n",
    "plt.xlabel(\"Epochs\")\n",
    "plt.ylabel(\"Loss\")\n",
    "plt.plot(loss_list_train,'blue',label=\"Train Loss\")\n",
    "plt.plot(loss_list_valid,'red',label=\"Valid Loss\")\n",
    "plt.legend(loc=1)#通过参数loc指定图例位置"
   ]
  },
  {
   "cell_type": "code",
   "execution_count": 20,
   "metadata": {},
   "outputs": [
    {
     "name": "stdout",
     "output_type": "stream",
     "text": [
      "Test_loss:114.7964\n",
      "<tf.Variable 'Variable:0' shape=(12, 1) dtype=float32, numpy=\n",
      "array([[ 0.21496676],\n",
      "       [ 0.15124302],\n",
      "       [-0.26865703],\n",
      "       [ 0.6767167 ],\n",
      "       [-1.9421709 ],\n",
      "       [ 1.2515285 ],\n",
      "       [ 0.1135649 ],\n",
      "       [-0.8295551 ],\n",
      "       [ 0.5146159 ],\n",
      "       [-0.6731716 ],\n",
      "       [-2.7072697 ],\n",
      "       [-1.301161  ]], dtype=float32)>\n",
      "<tf.Variable 'Variable:0' shape=(1,) dtype=float32, numpy=array([24.259771], dtype=float32)>\n"
     ]
    }
   ],
   "source": [
    "print(\"Test_loss:{:.4f}\".format(loss(x_test, y_test, w, b).numpy()))\n",
    "print(w)\n",
    "print(b)"
   ]
  }
 ],
 "metadata": {
  "kernelspec": {
   "display_name": "Python 3",
   "language": "python",
   "name": "python3"
  },
  "language_info": {
   "codemirror_mode": {
    "name": "ipython",
    "version": 3
   },
   "file_extension": ".py",
   "mimetype": "text/x-python",
   "name": "python",
   "nbconvert_exporter": "python",
   "pygments_lexer": "ipython3",
   "version": "3.7.4"
  }
 },
 "nbformat": 4,
 "nbformat_minor": 2
}
